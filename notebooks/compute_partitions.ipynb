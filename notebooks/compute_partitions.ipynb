{
 "cells": [
  {
   "cell_type": "code",
   "execution_count": 1,
   "metadata": {},
   "outputs": [
    {
     "name": "stderr",
     "output_type": "stream",
     "text": [
      "/Users/keceli/anaconda3/lib/python3.6/site-packages/h5py/__init__.py:36: FutureWarning: Conversion of the second argument of issubdtype from `float` to `np.floating` is deprecated. In future, it will be treated as `np.float64 == np.dtype(float).type`.\n",
      "  from ._conv import register_converters as _register_converters\n"
     ]
    }
   ],
   "source": [
    "%load_ext autoreload\n",
    "%autoreload 2\n",
    "#%matplotlib nbagg\n",
    "%matplotlib inline\n",
    "import logging\n",
    "logger = logging.getLogger()\n",
    "logger.setLevel(logging.INFO)\n",
    "import sys\n",
    "sys.path.append('/Users/keceli/G/work/f3n')\n",
    "from ffn.utils import bounding_box\n",
    "from time import time\n",
    "import h5py\n",
    "import numpy as np\n",
    "import matplotlib.pyplot as plt\n",
    "import ffntools as ft\n",
    "import imageio\n",
    "from ipywidgets import interact, interactive, fixed, interact_manual, Textarea,widgets, IntSlider"
   ]
  },
  {
   "cell_type": "markdown",
   "metadata": {},
   "source": [
    "# Flood-Filling Networks\n",
    "\n",
    "Flood-Filling Networks (FFNs) are a class of neural networks designed for\n",
    "instance segmentation of complex and large shapes, particularly in volume\n",
    "EM datasets of brain tissue.\n",
    "\n",
    "For more details, see the related publications:\n",
    "\n",
    " * https://arxiv.org/abs/1611.00421\n",
    " * https://doi.org/10.1101/200675\n",
    " \n",
    "## Preparing the training data\n",
    "\n",
    "`compute_partitions.py` transforms the label volume into an intermediate\n",
    "volume where the value of every voxel `A` corresponds to the quantized\n",
    "fraction of voxels labeled identically to `A` within a subvolume of\n",
    "radius `lom_radius` centered at `A`. `lom_radius` should normally be\n",
    "set to `(fov_size // 2) + deltas` (where `fov_size` and `deltas` are\n",
    "FFN model settings). Every such quantized fraction is called a *partition*.\n",
    "Sample invocation:\n",
    "\n",
    "Computes the partition map for a segmentation.\n",
    "\n",
    "For every labeled voxel of the input volume, computes the fraction of identically\n",
    "labeled voxels within a neighborhood of radius `lom_radius`, and then quantizes\n",
    "that number according to `thresholds`.\n",
    "\n",
    "```shell\n",
    "  python compute_partitions.py \\\n",
    "    --input_volume third_party/neuroproof_examples/validation_sample/groundtruth.h5:stack \\\n",
    "    --output_volume third_party/neuroproof_examples/validation_sample/af.h5:af \\\n",
    "    --thresholds 0.025,0.05,0.075,0.1,0.2,0.3,0.4,0.5,0.6,0.7,0.8,0.9 \\\n",
    "    --lom_radius 24,24,24 \\\n",
    "    --min_size 10000\n",
    "```\n",
    "\n",
    "* --input_volume:  (None) Segmentation volume as <volume_path>:<dataset>, where volume_path points to a HDF5 volume.\n",
    "* --output_volume: (None) Volume in which to save the partition map, as'<volume_path>:<dataset>.\n",
    "* --thresholds:    (None) List of activation voxel fractions used for partitioning.\n",
    "* --lom_radius:    (None) Local Object Mask (LOM) radii as (x, y, z).\n",
    "* --min_size:      (10000) Minimum number of voxels for a segment to be considered for partitioning.\n",
    "* --id_whitelist:  (None) Whitelist of object IDs for which to compute the partition numbers.\n",
    "* --mask_configs: (None) MaskConfigs proto in text foramt. Any locations where at least one voxel of the LOM is masked will be marked as excluded.\n",
    "* --exclusion_regions (None) List of (x, y, z, r) tuples specifying spherical regions to mark as excluded (i.e. set the output value to 255)\n",
    "\n",
    "## What is the ground truth for fib25 dataset?\n",
    "The raw .png images were converted into h5 files using the png_to_h5.py script.\n",
    "\n",
    "Dataset originates from FlyEM (http://janelia.org/team-project/fly-em) and their efforts to reconstruct neurons from the Drosophila medulla prepared using FIB-SEM imaging. FIB-SEM data and segmentation ground truth from FlyEM's\n",
    "neuroproof GitHub repository:\n",
    "\n",
    "  https://github.com/janelia-flyem/neuroproof_examples\n",
    "\n",
    "\n",
    "neuroproof_examples/validation_sample/groundtruth.h5: Hierarchical Data Format (version 5) contain segmentation as a combination of two datasets: 'stack' and 'transforms'.  'stack' is a 3D volume (z,y,x) of supervoxel labels.  'transforms' is a mapping of supervoxels to bodies.  In some cases, 'transforms' is simply an identify and 'stack' represents the final segmentation or ground truth.\n",
    "\n",
    "* stack: \n",
    "Shape:  (520, 520, 520)\n",
    "Datatype:  int64\n",
    "Unique:  2084\n",
    "Min:  2\n",
    "Max:  6210\n",
    "Mean:  1433.22\n",
    "520x520x520 volume from the Drosophila\n",
    "medulla at 10nm isotropic pixel resolution.\n",
    "Each pixel is represented by a single integer in range (2,6210)\n",
    "No attributes. (no bounding box)\n",
    "\n",
    "* transforms:\n",
    "Shape:  (2084, 2)\n",
    "Datatype:  uint64\n",
    "Unique:  2084\n",
    "Min:  2\n",
    "Max:  6210\n",
    "Mean:  2396.08\n",
    "\n",
    "Column 0 and Column 1 of this dataset is identical. Rows corresponds to the grayscale in stack ()\n",
    "\n",
    "* synapse-annotations:\n",
    "This is the third dataset in groundtruth.h5 and not mentioned in README files from Janelia or ffn.  This dataset contains a json file that identifies neurons (T-bar) and their partners with body IDs and locations.\n",
    "There are 260 T-bars annotated. T-bars have min 1 to max 15 partners. Out of 260 T-bars, 72 of them have unique body-ids. Including partners and T-bars there are 596 unique body IDs. T-bar body IDs range from 3 to 5014, partner body IDs range from 1 to 5522. \n"
   ]
  },
  {
   "cell_type": "code",
   "execution_count": 3,
   "metadata": {},
   "outputs": [
    {
     "name": "stdout",
     "output_type": "stream",
     "text": [
      "Total number of unique labels in original: 200\n",
      "Total number of unique labels in groundtruth: 2084\n"
     ]
    },
    {
     "data": {
      "application/vnd.jupyter.widget-view+json": {
       "model_id": "b05a1c042a484a7b852b2f4e684d7c03",
       "version_major": 2,
       "version_minor": 0
      },
      "text/plain": [
       "interactive(children=(IntSlider(value=24, continuous_update=False, description='image index', max=511), Dropdo…"
      ]
     },
     "metadata": {},
     "output_type": "display_data"
    },
    {
     "data": {
      "text/plain": [
       "<function __main__.compare_images(images, titles, idx, cmap='nipy_spectral_r')>"
      ]
     },
     "execution_count": 3,
     "metadata": {},
     "output_type": "execute_result"
    }
   ],
   "source": [
    "path_gt = '/Users/keceli/G/work/ffn/third_party/neuroproof_examples/validation_sample/groundtruth.h5'\n",
    "f_gt = h5py.File(path_gt,'r')\n",
    "img_gt = f_gt['stack']\n",
    "path_gray = '/Users/keceli/G/work/ffn/third_party/neuroproof_examples/validation_sample/grayscale_maps.h5'\n",
    "f_gray = h5py.File(path_gray,'r')\n",
    "img_gray = f_gray['raw']\n",
    "path_pt_def   = '/Users/keceli/G/work/f3n/data/full_af.h5'\n",
    "path_pt_min   = '/Users/keceli/G/work/f3n/profiles/mac_profile1/af.h5'\n",
    "path_pt_lom   = '/Users/keceli/G/work/f3n/partitions/lom111/af.h5'\n",
    "path_pt_lom50 = '/Users/keceli/G/work/f3n/partitions/lom50/af.h5'\n",
    "path_pt_thr   = '/Users/keceli/G/work/f3n/partitions/thresh0025/af.h5'\n",
    "path_pt_thr09 = '/Users/keceli/G/work/f3n/partitions/thresh09/af.h5'\n",
    "\n",
    "f_pt_def   = h5py.File(path_pt_def,'r')\n",
    "f_pt_min   = h5py.File(path_pt_min,'r')\n",
    "f_pt_lom   = h5py.File(path_pt_lom,'r')\n",
    "f_pt_lom50 = h5py.File(path_pt_lom50,'r')\n",
    "f_pt_thr   = h5py.File(path_pt_thr,'r')\n",
    "f_pt_thr09 = h5py.File(path_pt_thr09,'r')\n",
    "img_pt_def = f_pt_def['af']\n",
    "img_pt_min = f_pt_min['af']\n",
    "img_pt_lom = f_pt_lom['af']\n",
    "img_pt_lom50 = f_pt_lom50['af']\n",
    "img_pt_thr   = f_pt_thr['af']\n",
    "img_pt_thr09 = f_pt_thr09['af']\n",
    "\n",
    "titles = ['Original','Groundtruth', 'Default Partition', 'Min: 4m, nlabel=6', \n",
    "          'Min: 4m , LOM: 1', 'Min: 4m, LOM: 50', \n",
    "          'Min: 4m , Thr = 0.025','Min: 4m, Thr = 0.9']\n",
    "images = [None,           img_gt,     img_pt_def, img_pt_min, img_pt_lom, img_pt_lom50, img_pt_thr, img_pt_thr09  ]\n",
    "print('Total number of unique labels in original: {}'.format(len(np.unique(img_gray))))\n",
    "print('Total number of unique labels in groundtruth: {}'.format(len(np.unique(img_gt))))\n",
    "def compare_images(images,titles,idx,cmap='nipy_spectral_r'):\n",
    "    nimage = len(images)\n",
    "    plt.figure(figsize=(20,6))\n",
    "    print('***Default partition parameters***')\n",
    "    print('Min number of voxels for a segment: 10000')\n",
    "    print('Local Object Mask (LOM) radii     : 24,24,24')\n",
    "    print('Activation voxel fractions        : [0.025,0.05,0.075,0.1,0.2,0.3,0.4,0.5,0.6,0.7,0.8,0.9]')\n",
    "    print('Number of unique labels           : 637')\n",
    "    for i,img in enumerate(images):\n",
    "        if i == 0:\n",
    "            path = '/Users/keceli/G/work/neuroproof_examples/validation_sample/grayscale_maps/iso.0{}.png'.format(str(3490+idx))\n",
    "            img  = imageio.imread(path)\n",
    "        else:\n",
    "            img = img[idx]\n",
    "        uniques, counts = np.unique(img,return_counts=True)\n",
    "#        title = '{} {}, [{},{}]\\n Unique counts: {} {} {}'.format(titles[i],img.shape,np.min(img),np.max(img),\n",
    "#                                      len(uniques),np.min(counts),np.max(counts))\n",
    "        plt.subplot(2,nimage,i+1)\n",
    "        plt.imshow(img,cmap=cmap)\n",
    "        plt.axis('off')\n",
    "        plt.title(titles[i])\n",
    "        plt.subplot(2,nimage,i+nimage+1)\n",
    "        plt.scatter(uniques,counts,s=2,alpha=0.5)\n",
    "        plt.yscale('log')\n",
    "        plt.title('{} unique values'.format(len(uniques)))\n",
    "interact(compare_images,images=fixed(images), titles=fixed(titles),\n",
    "         idx=IntSlider(min=0,max=511,step=1,value=24,continuous_update=False,description='image index'),\n",
    "         cmap=['Greys_r','Greys','viridis','binary','nipy_spectral_r']\n",
    "        )"
   ]
  },
  {
   "cell_type": "code",
   "execution_count": 2,
   "metadata": {},
   "outputs": [
    {
     "data": {
      "application/vnd.jupyter.widget-view+json": {
       "model_id": "bba4dc80e19640eab0148aabd9534c42",
       "version_major": 2,
       "version_minor": 0
      },
      "text/plain": [
       "interactive(children=(IntSlider(value=25, description='idx', max=511), Dropdown(description='cmap', options=('…"
      ]
     },
     "metadata": {},
     "output_type": "display_data"
    }
   ],
   "source": [
    "img_org = imageio.imread('/Users/keceli/G/work/f3n/third_party/neuroproof_examples/validation_sample/iso.03490.png')\n",
    "#display_image(0)\n",
    "@interact(idx=IntSlider(min=0,max=511,step=1,value=25),cmap=['Greys_r','Greys','viridis','binary','nipy_spectral_r'])\n",
    "def display_image(idx,cmap='Greys_r',figx=20):\n",
    "    path_org  = '/Users/keceli/G/work/neuroproof_examples/validation_sample/grayscale_maps/'\n",
    "    path_org += 'iso.0{}.png'.format(str(3490+idx))\n",
    "    img_org   = imageio.imread(path_org)\n",
    "    path_gt = '/Users/keceli/G/work/ffn/third_party/neuroproof_examples/validation_sample/groundtruth.h5'\n",
    "    f_gt = h5py.File(path_gt,'r')\n",
    "    img_gt = f_gt['stack'][idx]\n",
    "    path_pt = '/Users/keceli/G/work/f3n/data/full_af.h5'\n",
    "    path_pt = '/Users/keceli/G/work/f3n/profiles/mac_profile1/af.h5'\n",
    "    path_pt2 = '/Users/keceli/G/work/f3n/partitions/lom111/af.h5'\n",
    "    #path_pt2 = '/Users/keceli/G/work/f3n/partitions/thresh0025/af.h5'\n",
    "    f_pt = h5py.File(path_pt,'r')\n",
    "    img_pt = f_pt['af'][idx]\n",
    "    f_pt2 = h5py.File(path_pt2,'r')\n",
    "    img_pt2 = f_pt2['af'][idx]\n",
    "    unique_gt, count_gt = np.unique(img_gt,return_counts=True)\n",
    "    unique_pt, count_pt = np.unique(img_pt,return_counts=True)\n",
    "    unique_pt2, count_pt2 = np.unique(img_pt2,return_counts=True)\n",
    "    unique_org, count_org = np.unique(img_org,return_counts=True)\n",
    "    print('Shapes: {} {} {} {}'.format(img_org.shape,img_gt.shape,img_pt.shape,img_pt2.shape))\n",
    "    print('Ranges: [{},{}] [{},{}] [{},{}] [{},{}]'.format(np.min(img_org),np.max(img_org),np.min(img_gt),np.max(img_gt),np.min(img_pt),np.max(img_pt),np.min(img_pt2),np.max(img_pt2)))\n",
    "    print('Number of unique elements   : {} {} {} {}'.format(len(unique_org),len(unique_gt),len(unique_pt),len(unique_pt2)))\n",
    "    print('Min count of unique elements: {} {} {} {}'.format(min(count_org),min(count_gt),min(count_pt),min(count_pt2)))\n",
    "    print('Max count of unique elements: {} {} {} {}'.format(max(count_org),max(count_gt),max(count_pt),max(count_pt2)))\n",
    "\n",
    "    plt.figure(figsize=(figx,10))\n",
    "    plt.subplot(1,4,1)\n",
    "    plt.imshow(img_org,cmap=cmap)\n",
    "    plt.axis('off')\n",
    "    plt.subplot(1,4,2)\n",
    "    plt.imshow(img_gt,cmap=cmap)\n",
    "    plt.axis('off')\n",
    "    plt.subplot(1,4,3)\n",
    "    plt.imshow(img_pt,cmap=cmap)\n",
    "    plt.axis('off')\n",
    "    plt.subplot(1,4,4)\n",
    "    plt.imshow(img_pt2,cmap=cmap)\n",
    "    plt.axis('off')\n",
    "   # plt.show()"
   ]
  },
  {
   "cell_type": "code",
   "execution_count": 4,
   "metadata": {},
   "outputs": [
    {
     "name": "stdout",
     "output_type": "stream",
     "text": [
      "Total number of unique labels in groundtruth: 2084\n"
     ]
    },
    {
     "data": {
      "application/vnd.jupyter.widget-view+json": {
       "model_id": "dfdb4374e86d4ef18b0470e9e21bf4e0",
       "version_major": 2,
       "version_minor": 0
      },
      "text/plain": [
       "interactive(children=(IntSlider(value=24, continuous_update=False, description='image index', max=511), Dropdo…"
      ]
     },
     "metadata": {},
     "output_type": "display_data"
    },
    {
     "data": {
      "text/plain": [
       "<function __main__.compare_images(images, titles, idx, label, cmap='nipy_spectral_r')>"
      ]
     },
     "execution_count": 4,
     "metadata": {},
     "output_type": "execute_result"
    }
   ],
   "source": [
    "path_gt = '/Users/keceli/G/work/ffn/third_party/neuroproof_examples/validation_sample/groundtruth.h5'\n",
    "f_gt = h5py.File(path_gt,'r')\n",
    "img_gt = f_gt['stack']\n",
    "path_gray = '/Users/keceli/G/work/ffn/third_party/neuroproof_examples/validation_sample/grayscale_maps.h5'\n",
    "f_gray = h5py.File(path_gray,'r')\n",
    "img_gray = f_gray['raw']\n",
    "path_pt_def   = '/Users/keceli/G/work/f3n/data/full_af.h5'\n",
    "path_pt_min   = '/Users/keceli/G/work/f3n/profiles/mac_profile1/af.h5'\n",
    "path_pt_lom   = '/Users/keceli/G/work/f3n/partitions/lom111/af.h5'\n",
    "path_pt_lom50 = '/Users/keceli/G/work/f3n/partitions/lom50/af.h5'\n",
    "path_pt_thr   = '/Users/keceli/G/work/f3n/partitions/thresh0025/af.h5'\n",
    "path_pt_thr09 = '/Users/keceli/G/work/f3n/partitions/thresh09/af.h5'\n",
    "\n",
    "f_pt_def   = h5py.File(path_pt_def,'r')\n",
    "f_pt_min   = h5py.File(path_pt_min,'r')\n",
    "f_pt_lom   = h5py.File(path_pt_lom,'r')\n",
    "f_pt_lom50 = h5py.File(path_pt_lom50,'r')\n",
    "f_pt_thr   = h5py.File(path_pt_thr,'r')\n",
    "f_pt_thr09 = h5py.File(path_pt_thr09,'r')\n",
    "img_pt_def = f_pt_def['af']\n",
    "img_pt_min = f_pt_min['af']\n",
    "img_pt_lom = f_pt_lom['af']\n",
    "img_pt_lom50 = f_pt_lom50['af']\n",
    "img_pt_thr   = f_pt_thr['af']\n",
    "img_pt_thr09 = f_pt_thr09['af']\n",
    "\n",
    "titles = ['Original','Groundtruth', 'Default Partition', 'Min: 4m, nlabel=6', \n",
    "          'Min: 4m , LOM: 1', 'Min: 4m, LOM: 50', \n",
    "          'Min: 4m , Thr = 0.025','Min: 4m, Thr = 0.9']\n",
    "images = [img_gray,           img_gt,     img_pt_def, img_pt_min, img_pt_lom, img_pt_lom50, img_pt_thr, img_pt_thr09  ]\n",
    "#print('Total number of unique labels in grayscale: {}'.format(len(np.unique(img_gray))))\n",
    "print('Total number of unique labels in groundtruth: {}'.format(len(np.unique(img_gt))))\n",
    "def compare_images(images,titles,idx,label,cmap='nipy_spectral_r'):\n",
    "    nimage = len(images)\n",
    "    plt.figure(figsize=(20,6))\n",
    "    print('***Default partition parameters***')\n",
    "    print('Min number of voxels for a segment: 10000')\n",
    "    print('Local Object Mask (LOM) radii     : 24,24,24')\n",
    "    print('Activation voxel fractions        : [0.025,0.05,0.075,0.1,0.2,0.3,0.4,0.5,0.6,0.7,0.8,0.9]')\n",
    "    print('Number of unique labels           : 637')\n",
    "    for i,img in enumerate(images):\n",
    "        img = img[idx]\n",
    "        img[img_gt[idx] != label] = 255\n",
    "        uniques, counts = np.unique(img,return_counts=True)\n",
    "#        title = '{} {}, [{},{}]\\n Unique counts: {} {} {}'.format(titles[i],img.shape,np.min(img),np.max(img),\n",
    "#                                      len(uniques),np.min(counts),np.max(counts))\n",
    "        plt.subplot(2,nimage,i+1)\n",
    "        plt.imshow(img,cmap=cmap)\n",
    "        plt.axis('off')\n",
    "        plt.title(titles[i])\n",
    "        plt.subplot(2,nimage,i+nimage+1)\n",
    "        plt.scatter(uniques,counts,s=2,alpha=0.5)\n",
    "        plt.yscale('log')\n",
    "        plt.title('{} unique values'.format(len(uniques)))\n",
    "interact(compare_images,images=fixed(images), titles=fixed(titles),\n",
    "         idx=IntSlider(min=0,max=511,step=1,value=24,continuous_update=False,description='image index'),\n",
    "         label=[  34 , 103, 1236, 2104, 2148, 2617],\n",
    "         cmap=['Greys_r','Greys','viridis','binary','nipy_spectral_r']\n",
    "        )"
   ]
  },
  {
   "cell_type": "code",
   "execution_count": 9,
   "metadata": {},
   "outputs": [
    {
     "name": "stdout",
     "output_type": "stream",
     "text": [
      "[24 24 24]\n",
      "[49 49 49]\n",
      "117649 0.08367162608101958\n"
     ]
    }
   ],
   "source": [
    "lom_radius = np.array([24,24,24])\n",
    "lom_radius_zyx = lom_radius[::-1]\n",
    "lom_diam_zyx = 2 * lom_radius_zyx + 1\n",
    "fov_volume = np.prod(lom_diam_zyx)\n",
    "print(lom_radius_zyx)\n",
    "print(lom_diam_zyx)\n",
    "print(fov_volume,fov_volume/520**3*100)"
   ]
  },
  {
   "cell_type": "code",
   "execution_count": 11,
   "metadata": {},
   "outputs": [],
   "source": [
    "#gtfile = '/Users/keceli/G/work/neuroproof_examples/validation_sample/groundtruth.h5'\n",
    "# The above from Janelia is the original one and identical to the below.\n",
    "gtfile = '/Users/keceli/G/work/ffn/third_party/neuroproof_examples/validation_sample/groundtruth.h5'\n",
    "gt = h5py.File(gtfile)\n",
    "gtstack = gt['stack']\n",
    "gtuniques, gtcounts = np.unique(gtstack,return_counts=True)\n",
    "def get_number_of_labels(filename,minsize):\n",
    "    gt = h5py.File(filename)\n",
    "    gtstack = gt['stack']\n",
    "    gtuniques, gtcounts = np.unique(gtstack,return_counts=True)\n",
    "    nlabel = len(gtcounts[gtcounts>minsize])\n",
    "    return nlabel"
   ]
  },
  {
   "cell_type": "code",
   "execution_count": 30,
   "metadata": {},
   "outputs": [
    {
     "name": "stdout",
     "output_type": "stream",
     "text": [
      "{3}\n"
     ]
    }
   ],
   "source": [
    "t1={int(x) for x in [1,2,3]}\n",
    "t1 &= set([3])\n",
    "print(t1)"
   ]
  },
  {
   "cell_type": "code",
   "execution_count": 33,
   "metadata": {},
   "outputs": [
    {
     "name": "stdout",
     "output_type": "stream",
     "text": [
      "637\n",
      "6\n",
      "3 445953\n",
      "5 1176402\n",
      "11 418599\n",
      "24 506350\n",
      "28 982471\n",
      "30 2559978\n",
      "34 4493093\n",
      "37 526603\n",
      "40 2406604\n",
      "48 524445\n",
      "53 1906105\n",
      "67 3131176\n",
      "73 1358818\n",
      "79 952282\n",
      "88 650648\n",
      "99 523133\n",
      "100 3163470\n",
      "101 1623732\n",
      "103 4406398\n",
      "106 1901389\n",
      "149 1258153\n",
      "158 434913\n",
      "171 2786283\n",
      "194 1510122\n",
      "318 675122\n",
      "326 2748825\n",
      "344 400260\n",
      "571 1738851\n",
      "638 470934\n",
      "640 2471091\n",
      "668 1333149\n",
      "1011 421455\n",
      "1155 1698736\n",
      "1219 2524088\n",
      "1229 406367\n",
      "1233 867261\n",
      "1236 5072778\n",
      "1267 616443\n",
      "1348 926446\n",
      "1419 784248\n",
      "1424 1206361\n",
      "1497 1478189\n",
      "1505 422347\n",
      "1522 1619652\n",
      "1563 752161\n",
      "1637 978372\n",
      "1699 691824\n",
      "1832 710863\n",
      "1848 936921\n",
      "1876 829739\n",
      "1958 792654\n",
      "2043 555748\n",
      "2104 4563055\n",
      "2148 5732788\n",
      "2191 1333036\n",
      "2326 440345\n",
      "2332 612463\n",
      "2372 1002874\n",
      "2434 535787\n",
      "2503 421931\n",
      "2587 799044\n",
      "2612 486056\n",
      "2617 4059765\n",
      "2779 438140\n",
      "2865 440596\n",
      "2906 727458\n",
      "2972 1526709\n",
      "2988 480087\n",
      "3016 443790\n",
      "3213 938882\n",
      "3353 516387\n",
      "3480 846591\n",
      "3494 1244749\n",
      "3553 1326570\n",
      "3614 1487126\n",
      "3628 718017\n",
      "3670 552258\n",
      "3696 525939\n",
      "3782 635217\n",
      "3849 777312\n",
      "4150 469493\n"
     ]
    },
    {
     "data": {
      "image/png": "[encoded data removed]",
      "text/plain": [
       "<Figure size 432x288 with 1 Axes>"
      ]
     },
     "metadata": {},
     "output_type": "display_data"
    }
   ],
   "source": [
    "# plt.scatter(gtuniques,gtcounts,c='b',edgecolors='b',alpha=0.25,s=4)\n",
    "plt.yscale('log')\n",
    "plt.xlabel('GT unique values')\n",
    "plt.ylabel('GT unique counts')\n",
    "print(len(gtcounts[gtcounts>10000]))\n",
    "print(len(gtcounts[gtcounts>4000000]))\n",
    "#print(gtuniques[gtcounts>5500000])\n",
    "#print(min(gtcounts))\n",
    "for i,cnt in enumerate(gtcounts):\n",
    "    if cnt>400000:\n",
    "        print(gtuniques[i],cnt)"
   ]
  },
  {
   "cell_type": "code",
   "execution_count": 147,
   "metadata": {},
   "outputs": [
    {
     "data": {
      "text/plain": [
       "(array([   8.,   10.,   13.,   23.,   93.,  429., 1032., 1447., 1771.,\n",
       "        1931., 1995., 2051., 2077., 2084., 2084.]),\n",
       " array([0. , 0.5, 1. , 1.5, 2. , 2.5, 3. , 3.5, 4. , 4.5, 5. , 5.5, 6. ,\n",
       "        6.5, 7. , 7.5]),\n",
       " <a list of 1 Patch objects>)"
      ]
     },
     "execution_count": 147,
     "metadata": {},
     "output_type": "execute_result"
    },
    {
     "data": {
      "image/png": "[encoded data removed]",
      "text/plain": [
       "<Figure size 432x288 with 1 Axes>"
      ]
     },
     "metadata": {},
     "output_type": "display_data"
    }
   ],
   "source": [
    "x=np.arange(0,8,0.5)\n",
    "plt.hist(np.log10(gtcounts),x,histtype='stepfilled',cumulative=True)#,log=True,bins=20)"
   ]
  },
  {
   "cell_type": "code",
   "execution_count": 150,
   "metadata": {},
   "outputs": [
    {
     "name": "stdout",
     "output_type": "stream",
     "text": [
      "/ has 1 datasets\n",
      "Datasets: ['af']\n",
      "****************************************************************************************************\n",
      "Dataset  af\n",
      "Shape:  (520, 520, 520)\n",
      "Datatype:  uint8\n",
      "Unique:  15\n",
      "Min:  0\n",
      "Max:  255\n",
      "Mean:  70.26748992944925\n",
      "  C_CONTIGUOUS : True\n",
      "  F_CONTIGUOUS : False\n",
      "  OWNDATA : True\n",
      "  WRITEABLE : True\n",
      "  ALIGNED : True\n",
      "  WRITEBACKIFCOPY : False\n",
      "  UPDATEIFCOPY : False\n",
      "Attributes for  af\n",
      "--------------------------------------------------\n",
      "name: bounding_boxes\n",
      "value: [[[ 24  24  24]\n",
      "  [472 472 472]]]\n",
      "--------------------------------------------------\n",
      "name: partition_counts\n",
      "value: [[       0        1        2        3        4        5        6        7\n",
      "         8        9       10       11       12       13]\n",
      " [ 1950313   152169  2298482  3771924  3760250 11226931  9552541 11414567\n",
      "  13567244 13263247 11077441  8687871  6896361  7534707]]\n"
     ]
    },
    {
     "data": {
      "text/plain": [
       "<HDF5 file \"full_af.h5\" (mode r)>"
      ]
     },
     "execution_count": 150,
     "metadata": {},
     "output_type": "execute_result"
    }
   ],
   "source": [
    "ptfile = '/Users/keceli/G/work/f3n/data/full_af.h5'\n",
    "ft.get_h5info(ptfile,showvalues=True)\n"
   ]
  },
  {
   "cell_type": "code",
   "execution_count": 41,
   "metadata": {},
   "outputs": [
    {
     "name": "stdout",
     "output_type": "stream",
     "text": [
      "/ has 1 datasets\n",
      "Datasets: ['raw']\n",
      "****************************************************************************************************\n",
      "Dataset  raw\n",
      "Shape:  (520, 520, 520)\n",
      "Datatype:  uint8\n",
      "Unique:  200\n",
      "Min:  20\n",
      "Max:  221\n",
      "Mean:  128.65279252247382\n",
      "  C_CONTIGUOUS : True\n",
      "  F_CONTIGUOUS : False\n",
      "  OWNDATA : True\n",
      "  WRITEABLE : True\n",
      "  ALIGNED : True\n",
      "  WRITEBACKIFCOPY : False\n",
      "  UPDATEIFCOPY : False\n"
     ]
    },
    {
     "data": {
      "text/plain": [
       "<HDF5 file \"grayscale_maps.h5\" (mode r)>"
      ]
     },
     "execution_count": 41,
     "metadata": {},
     "output_type": "execute_result"
    }
   ],
   "source": [
    "ptfile_7labels = '/Users/keceli/G/work/ffn/third_party/neuroproof_examples/validation_sample/grayscale_maps.h5'\n",
    "ft.get_h5info(ptfile_7labels,showvalues=True)"
   ]
  },
  {
   "cell_type": "code",
   "execution_count": 166,
   "metadata": {
    "scrolled": true
   },
   "outputs": [
    {
     "name": "stdout",
     "output_type": "stream",
     "text": [
      "/ has 1 datasets\n",
      "Datasets: ['af']\n",
      "****************************************************************************************************\n",
      "Dataset  af\n",
      "Shape:  (520, 520, 520)\n",
      "Datatype:  uint8\n",
      "Unique:  13\n",
      "Min:  0\n",
      "Max:  255\n",
      "Mean:  5.479478002674101\n",
      "  C_CONTIGUOUS : True\n",
      "  F_CONTIGUOUS : False\n",
      "  OWNDATA : True\n",
      "  WRITEABLE : True\n",
      "  ALIGNED : True\n",
      "  WRITEBACKIFCOPY : False\n",
      "  UPDATEIFCOPY : False\n",
      "Attributes for  af\n",
      "--------------------------------------------------\n",
      "name: bounding_boxes\n",
      "value: [[[  1   1   1]\n",
      "  [518 518 518]]]\n",
      "--------------------------------------------------\n",
      "name: partition_counts\n",
      "value: [[        0         2         3         5         6         7         8\n",
      "          9        10        11        12        13]\n",
      " [110847044         1       177      3717     18083     32617    162707\n",
      "     564585    561170    742353    952750  25106628]]\n"
     ]
    },
    {
     "data": {
      "text/plain": [
       "<HDF5 file \"af.h5\" (mode r)>"
      ]
     },
     "execution_count": 166,
     "metadata": {},
     "output_type": "execute_result"
    }
   ],
   "source": [
    "ptfile = '/Users/keceli/G/work/f3n/partitions/lom111/af.h5'\n",
    "ft.get_h5info(ptfile,showvalues=True)"
   ]
  },
  {
   "cell_type": "code",
   "execution_count": 168,
   "metadata": {
    "scrolled": true
   },
   "outputs": [
    {
     "name": "stdout",
     "output_type": "stream",
     "text": [
      "/ has 1 datasets\n",
      "Datasets: ['af']\n",
      "****************************************************************************************************\n",
      "Dataset  af\n",
      "Shape:  (520, 520, 520)\n",
      "Datatype:  uint8\n",
      "Unique:  4\n",
      "Min:  0\n",
      "Max:  255\n",
      "Mean:  64.63817181099226\n",
      "  C_CONTIGUOUS : True\n",
      "  F_CONTIGUOUS : False\n",
      "  OWNDATA : True\n",
      "  WRITEABLE : True\n",
      "  ALIGNED : True\n",
      "  WRITEBACKIFCOPY : False\n",
      "  UPDATEIFCOPY : False\n",
      "Attributes for  af\n",
      "--------------------------------------------------\n",
      "name: bounding_boxes\n",
      "value: [[[ 24  24  24]\n",
      "  [472 472 472]]]\n",
      "--------------------------------------------------\n",
      "name: partition_counts\n",
      "value: [[       0        1        2]\n",
      " [81208865     4064 23941119]]\n"
     ]
    },
    {
     "data": {
      "text/plain": [
       "<HDF5 file \"af.h5\" (mode r)>"
      ]
     },
     "execution_count": 168,
     "metadata": {},
     "output_type": "execute_result"
    }
   ],
   "source": [
    "ptfile = '/Users/keceli/G/work/f3n/partitions/thresh0025/af.h5'\n",
    "ft.get_h5info(ptfile,showvalues=True)"
   ]
  },
  {
   "cell_type": "markdown",
   "metadata": {},
   "source": [
    "##### jsonfile='synaps.json'\n",
    "import json\n",
    "f= open(jsonfile, 'r') \n",
    "synaps = json.load(f)\n",
    "synapsdata = synaps['data']\n",
    "print(len(synapsdata))\n",
    "ntbar = len(synapsdata)\n",
    "tbarids = np.zeros(ntbar,dtype=np.uint32)\n",
    "tbarnbrs = np.zeros(ntbar,dtype=np.uint32)\n",
    "partnerids = []\n",
    "for i,dat in enumerate(synapsdata):\n",
    "    tbarids[i] = int(dat['T-bar']['body ID'])\n",
    "    tbarnbrs[i] = len(dat['partners'])\n",
    "    for p in dat['partners']:\n",
    "        partnerids.append(p['body ID'])\n",
    "print(len(list(set(tbarids))))\n",
    "print(list(set(tbarids)))\n",
    "print(min(tbarnbrs),max(tbarnbrs))\n",
    "print(len(list(set(partnerids))))\n",
    "print(list(set(partnerids)))\n",
    "print(type(partnerids),type(list(tbarids)),type(partnerids.append(1)))\n",
    "partnerids.extend(list(tbarids))\n",
    "print(len(list(set(partnerids))))\n",
    "print(len(np.unique(tbarids)))\n",
    "print(min(tbarids),max(tbarids))\n",
    "print(min(partnerids),max(partnerids))"
   ]
  },
  {
   "cell_type": "code",
   "execution_count": 73,
   "metadata": {},
   "outputs": [
    {
     "name": "stdout",
     "output_type": "stream",
     "text": [
      "/ has 3 datasets\n",
      "Datasets: ['stack', 'synapse-annotations', 'transforms']\n",
      "****************************************************************************************************\n",
      "Dataset  stack\n",
      "Shape:  (520, 520, 520)\n",
      "Datatype:  int64\n",
      "Unique:  2084\n",
      "Min:  2\n",
      "Max:  6210\n",
      "Mean:  1433.2200727056781\n",
      "  C_CONTIGUOUS : True\n",
      "  F_CONTIGUOUS : False\n",
      "  OWNDATA : True\n",
      "  WRITEABLE : True\n",
      "  ALIGNED : True\n",
      "  WRITEBACKIFCOPY : False\n",
      "  UPDATEIFCOPY : False\n",
      "****************************************************************************************************\n",
      "Dataset  synapse-annotations\n",
      "Shape:  (1,)\n",
      "Datatype:  object\n",
      "  C_CONTIGUOUS : True\n",
      "  F_CONTIGUOUS : True\n",
      "  OWNDATA : True\n",
      "  WRITEABLE : True\n",
      "  ALIGNED : True\n",
      "  WRITEBACKIFCOPY : False\n",
      "  UPDATEIFCOPY : False\n",
      "****************************************************************************************************\n",
      "Dataset  transforms\n",
      "Shape:  (2084, 2)\n",
      "Datatype:  uint64\n",
      "Unique:  2084\n",
      "Min:  2\n",
      "Max:  6210\n",
      "Mean:  2396.0830134357007\n",
      "  C_CONTIGUOUS : True\n",
      "  F_CONTIGUOUS : False\n",
      "  OWNDATA : True\n",
      "  WRITEABLE : True\n",
      "  ALIGNED : True\n",
      "  WRITEBACKIFCOPY : False\n",
      "  UPDATEIFCOPY : False\n"
     ]
    },
    {
     "data": {
      "text/plain": [
       "<HDF5 file \"groundtruth.h5\" (mode r)>"
      ]
     },
     "execution_count": 73,
     "metadata": {},
     "output_type": "execute_result"
    }
   ],
   "source": [
    "ft.get_h5info(gtfile,showvalues=True)"
   ]
  },
  {
   "cell_type": "code",
   "execution_count": 77,
   "metadata": {},
   "outputs": [],
   "source": [
    "import logging\n",
    "logger = logging.getLogger()\n",
    "logger.setLevel(logging.DEBUG)\n",
    "import sys\n",
    "sys.path.append('/Users/keceli/G/work/f3n')\n",
    "from ffn.utils import bounding_box\n",
    "from time import time\n",
    "from numba import jit\n",
    "\n",
    "def _summed_volume_table(val):\n",
    "    \"\"\"Computes a summed volume table of 'val'.\"\"\"\n",
    "    val = val.astype(np.int8)\n",
    "    svt = val.cumsum(axis=0).cumsum(axis=1).cumsum(axis=2)\n",
    "    return np.pad(svt, [[1, 0], [1, 0], [1, 0]], mode='constant')\n",
    "\n",
    "def _query_summed_volume(svt, diam):\n",
    "    \"\"\"Queries a summed volume table.\n",
    "\n",
    "    Operates in 'VALID' mode, i.e. only computes the sums for voxels where the\n",
    "    full diam // 2 context is available.\n",
    "\n",
    "    Args:\n",
    "      svt: summed volume table (see _summed_volume_table)\n",
    "      diam: diameter (z, y, x tuple) of the area within which to compute sums\n",
    "\n",
    "    Returns:\n",
    "      sum of all values within a diam // 2 radius (under L1 metric) of every voxel\n",
    "      in the array from which 'svt' was built.\n",
    "    \"\"\"\n",
    "    return (\n",
    "        svt[diam[0]:, diam[1]:, diam[2]:] - svt[diam[0]:, diam[1]:, :-diam[2]] -\n",
    "        svt[diam[0]:, :-diam[1], diam[2]:] - svt[:-diam[0], diam[1]:, diam[2]:] +\n",
    "        svt[:-diam[0], :-diam[1], diam[2]:] + svt[:-diam[0], diam[1]:, :-diam[2]]\n",
    "        + svt[diam[0]:, :-diam[1], :-diam[2]] -\n",
    "        svt[:-diam[0], :-diam[1], :-diam[2]])\n",
    "\n",
    "def load_mask(mask_configs, box, lom_diam_zyx):\n",
    "    if mask_configs is None:\n",
    "        return None\n",
    "\n",
    "    mask = storage.build_mask(self.mask_config.masks, box.start[::-1],\n",
    "                              box.size[::-1])\n",
    "    svt = _summed_volume_table(mask)\n",
    "    mask = _query_summed_volume(svt, lom_diam_zyx) >= 1\n",
    "    return mask\n",
    "\n",
    "def clear_dust(data, min_size=10):\n",
    "    \"\"\"Removes small objects from a segmentation array.\n",
    "\n",
    "    Replaces objects smaller than `min_size` with 0 (background).\n",
    " \n",
    "    Args:\n",
    "      data: numpy array of segment IDs\n",
    "      min_size: minimum size in voxels of an object to be retained\n",
    "\n",
    "    Returns:\n",
    "      the data array (modified in place)\n",
    "    \"\"\"\n",
    "    ids, sizes = np.unique(data, return_counts=True)\n",
    "    small = ids[sizes < min_size]\n",
    "    small_mask = np.in1d(data.flat, small).reshape(data.shape)\n",
    "    data[small_mask] = 0\n",
    "    return data\n",
    "\n",
    "def compute_partitions(seg_array,\n",
    "                       thresholds,\n",
    "                       lom_radius,\n",
    "                       id_whitelist=None,\n",
    "                       exclusion_regions=None,\n",
    "                       mask_configs=None,\n",
    "                       min_size=10000):\n",
    "    \"\"\"Computes quantized fractions of active voxels in a local object mask.\n",
    "\n",
    "    Args:\n",
    "      thresholds: list of activation voxel fractions to use for partitioning.\n",
    "      lom_radius: LOM radii as [x, y, z]\n",
    "      id_whitelist: (optional) whitelist of object IDs for which to compute the\n",
    "          partition numbers\n",
    "      exclusion_regions: (optional) list of x, y, z, r tuples specifying regions\n",
    "          to mark as excluded (with 255). The regions are spherical, with\n",
    "          (x, y, z) definining the center of the sphere and 'r' specifying its\n",
    "          radius. All values are in voxels.\n",
    "      mask_configs: (optional) MaskConfigs proto; any locations where at least\n",
    "          one voxel of the LOM is masked will be marked as excluded (255).\n",
    "\n",
    "    Returns:\n",
    "      tuple of:\n",
    "        corner of output subvolume as (x, y, z)\n",
    "        uint8 ndarray of active fraction voxels\n",
    "    \"\"\"\n",
    "    seg_array = clear_dust(seg_array, min_size=min_size)\n",
    "    assert seg_array.ndim == 3\n",
    "\n",
    "    lom_radius = np.array(lom_radius)\n",
    "    lom_radius_zyx = lom_radius[::-1]\n",
    "    lom_diam_zyx = 2 * lom_radius_zyx + 1\n",
    "\n",
    "    def _sel(i):\n",
    "        if i == 0:\n",
    "            return slice(None)\n",
    "        else:\n",
    "            return slice(i, -i)\n",
    "\n",
    "    valid_sel = [_sel(x) for x in lom_radius_zyx]\n",
    "    output = np.zeros(seg_array[valid_sel].shape, dtype=np.uint8)\n",
    "    logging.info('Output shape: {} '.format(output.shape))\n",
    "    corner = lom_radius\n",
    "\n",
    "    if exclusion_regions is not None:\n",
    "        sz, sy, sx = output.shape\n",
    "        hz, hy, hx = np.mgrid[:sz, :sy, :sx]\n",
    "\n",
    "        hz += corner[2]\n",
    "        hy += corner[1]\n",
    "        hx += corner[0]\n",
    "\n",
    "        for x, y, z, r in exclusion_regions:\n",
    "            mask = (hx - x)**2 + (hy - y)**2 + (hz - z)**2 <= r**2\n",
    "            output[mask] = 255\n",
    "\n",
    "    labels = set(np.unique(seg_array))\n",
    "    logging.info('Labels to process: %d', len(labels))\n",
    "\n",
    "    if id_whitelist is not None:\n",
    "        labels &= set(id_whitelist)\n",
    "\n",
    "    mask = load_mask(mask_configs,\n",
    "                     bounding_box.BoundingBox(\n",
    "                         start=(0, 0, 0), size=seg_array.shape[::-1]),\n",
    "                     lom_diam_zyx)\n",
    "    if mask is not None:\n",
    "        output[mask] = 255\n",
    "\n",
    "    fov_volume = np.prod(lom_diam_zyx)\n",
    "    for l in list(labels)[0:2]:\n",
    "        # Don't create a mask for the background component.\n",
    "        tstart = time()\n",
    "        if l == 0:\n",
    "            continue\n",
    "\n",
    "        object_mask = (seg_array == l)\n",
    "\n",
    "        svt = _summed_volume_table(object_mask)\n",
    "        active_fraction = _query_summed_volume(svt, lom_diam_zyx) / fov_volume\n",
    "        assert active_fraction.shape == output.shape\n",
    "\n",
    "        # Drop context that is only necessary for computing the active fraction\n",
    "        # (i.e. one LOM radius in every direction).\n",
    "        object_mask = object_mask[valid_sel]\n",
    "\n",
    "        # TODO(mjanusz): Use np.digitize here.\n",
    "        for i, th in enumerate(thresholds):\n",
    "            output[object_mask & (active_fraction < th) & (output == 0)] = i + 1\n",
    "\n",
    "        output[object_mask & (active_fraction >= thresholds[-1]) &\n",
    "               (output == 0)] = len(thresholds) + 1\n",
    "\n",
    "        logging.info('Done processing %d in %f seconds', l,time()-tstart)\n",
    "\n",
    "    logging.info('Nonzero values: %d', np.sum(output > 0))\n",
    "\n",
    "    return corner, output\n",
    "\n"
   ]
  },
  {
   "cell_type": "code",
   "execution_count": 78,
   "metadata": {},
   "outputs": [
    {
     "name": "stderr",
     "output_type": "stream",
     "text": [
      "INFO:root:Output shape: (472, 472, 472) \n",
      "INFO:root:Labels to process: 7\n",
      "INFO:root:Done processing 34 in 13.240828 seconds\n",
      "INFO:root:Nonzero values: 4088609\n"
     ]
    }
   ],
   "source": [
    "groundtruth = h5py.File('/Users/keceli/G/work/f3n/third_party/neuroproof_examples/validation_sample/groundtruth.h5','r')\n",
    "seg_array = groundtruth['stack']\n",
    "thresholds = [0.025,0.05,0.075,0.1,0.2,0.3,0.4,0.5,0.6,0.7,0.8,0.9]\n",
    "lom_radius = [24,24,24]\n",
    "min_size   = 4000000\n",
    "corner, partitions = compute_partitions(seg_array[...], thresholds, lom_radius, id_whitelist=None, exclusion_regions=None, mask_configs=None, min_size=min_size)"
   ]
  },
  {
   "cell_type": "code",
   "execution_count": 79,
   "metadata": {},
   "outputs": [],
   "source": [
    "np.unique?"
   ]
  },
  {
   "cell_type": "code",
   "execution_count": 43,
   "metadata": {},
   "outputs": [
    {
     "ename": "KeyboardInterrupt",
     "evalue": "",
     "output_type": "error",
     "traceback": [
      "\u001b[0;31m---------------------------------------------------------------------------\u001b[0m",
      "\u001b[0;31mKeyboardInterrupt\u001b[0m                         Traceback (most recent call last)",
      "\u001b[0;32m<ipython-input-43-ac0e9c3218a3>\u001b[0m in \u001b[0;36m<module>\u001b[0;34m()\u001b[0m\n\u001b[0;32m----> 1\u001b[0;31m \u001b[0mget_ipython\u001b[0m\u001b[0;34m(\u001b[0m\u001b[0;34m)\u001b[0m\u001b[0;34m.\u001b[0m\u001b[0mrun_line_magic\u001b[0m\u001b[0;34m(\u001b[0m\u001b[0;34m'prun'\u001b[0m\u001b[0;34m,\u001b[0m \u001b[0;34m'compute_partitions(seg_array[...], thresholds, lom_radius, id_whitelist=None, exclusion_regions=None, mask_configs=None, min_size=min_size)'\u001b[0m\u001b[0;34m)\u001b[0m\u001b[0;34m\u001b[0m\u001b[0m\n\u001b[0m",
      "\u001b[0;32m~/anaconda3/lib/python3.6/site-packages/IPython/core/interactiveshell.py\u001b[0m in \u001b[0;36mrun_line_magic\u001b[0;34m(self, magic_name, line, _stack_depth)\u001b[0m\n\u001b[1;32m   2129\u001b[0m                 \u001b[0mkwargs\u001b[0m\u001b[0;34m[\u001b[0m\u001b[0;34m'local_ns'\u001b[0m\u001b[0;34m]\u001b[0m \u001b[0;34m=\u001b[0m \u001b[0msys\u001b[0m\u001b[0;34m.\u001b[0m\u001b[0m_getframe\u001b[0m\u001b[0;34m(\u001b[0m\u001b[0mstack_depth\u001b[0m\u001b[0;34m)\u001b[0m\u001b[0;34m.\u001b[0m\u001b[0mf_locals\u001b[0m\u001b[0;34m\u001b[0m\u001b[0m\n\u001b[1;32m   2130\u001b[0m             \u001b[0;32mwith\u001b[0m \u001b[0mself\u001b[0m\u001b[0;34m.\u001b[0m\u001b[0mbuiltin_trap\u001b[0m\u001b[0;34m:\u001b[0m\u001b[0;34m\u001b[0m\u001b[0m\n\u001b[0;32m-> 2131\u001b[0;31m                 \u001b[0mresult\u001b[0m \u001b[0;34m=\u001b[0m \u001b[0mfn\u001b[0m\u001b[0;34m(\u001b[0m\u001b[0;34m*\u001b[0m\u001b[0margs\u001b[0m\u001b[0;34m,\u001b[0m\u001b[0;34m**\u001b[0m\u001b[0mkwargs\u001b[0m\u001b[0;34m)\u001b[0m\u001b[0;34m\u001b[0m\u001b[0m\n\u001b[0m\u001b[1;32m   2132\u001b[0m             \u001b[0;32mreturn\u001b[0m \u001b[0mresult\u001b[0m\u001b[0;34m\u001b[0m\u001b[0m\n\u001b[1;32m   2133\u001b[0m \u001b[0;34m\u001b[0m\u001b[0m\n",
      "\u001b[0;32m<decorator-gen-56>\u001b[0m in \u001b[0;36mprun\u001b[0;34m(self, parameter_s, cell)\u001b[0m\n",
      "\u001b[0;32m~/anaconda3/lib/python3.6/site-packages/IPython/core/magic.py\u001b[0m in \u001b[0;36m<lambda>\u001b[0;34m(f, *a, **k)\u001b[0m\n\u001b[1;32m    185\u001b[0m     \u001b[0;31m# but it's overkill for just that one bit of state.\u001b[0m\u001b[0;34m\u001b[0m\u001b[0;34m\u001b[0m\u001b[0m\n\u001b[1;32m    186\u001b[0m     \u001b[0;32mdef\u001b[0m \u001b[0mmagic_deco\u001b[0m\u001b[0;34m(\u001b[0m\u001b[0marg\u001b[0m\u001b[0;34m)\u001b[0m\u001b[0;34m:\u001b[0m\u001b[0;34m\u001b[0m\u001b[0m\n\u001b[0;32m--> 187\u001b[0;31m         \u001b[0mcall\u001b[0m \u001b[0;34m=\u001b[0m \u001b[0;32mlambda\u001b[0m \u001b[0mf\u001b[0m\u001b[0;34m,\u001b[0m \u001b[0;34m*\u001b[0m\u001b[0ma\u001b[0m\u001b[0;34m,\u001b[0m \u001b[0;34m**\u001b[0m\u001b[0mk\u001b[0m\u001b[0;34m:\u001b[0m \u001b[0mf\u001b[0m\u001b[0;34m(\u001b[0m\u001b[0;34m*\u001b[0m\u001b[0ma\u001b[0m\u001b[0;34m,\u001b[0m \u001b[0;34m**\u001b[0m\u001b[0mk\u001b[0m\u001b[0;34m)\u001b[0m\u001b[0;34m\u001b[0m\u001b[0m\n\u001b[0m\u001b[1;32m    188\u001b[0m \u001b[0;34m\u001b[0m\u001b[0m\n\u001b[1;32m    189\u001b[0m         \u001b[0;32mif\u001b[0m \u001b[0mcallable\u001b[0m\u001b[0;34m(\u001b[0m\u001b[0marg\u001b[0m\u001b[0;34m)\u001b[0m\u001b[0;34m:\u001b[0m\u001b[0;34m\u001b[0m\u001b[0m\n",
      "\u001b[0;32m~/anaconda3/lib/python3.6/site-packages/IPython/core/magics/execution.py\u001b[0m in \u001b[0;36mprun\u001b[0;34m(self, parameter_s, cell)\u001b[0m\n\u001b[1;32m    300\u001b[0m             \u001b[0marg_str\u001b[0m \u001b[0;34m+=\u001b[0m \u001b[0;34m'\\n'\u001b[0m \u001b[0;34m+\u001b[0m \u001b[0mcell\u001b[0m\u001b[0;34m\u001b[0m\u001b[0m\n\u001b[1;32m    301\u001b[0m         \u001b[0marg_str\u001b[0m \u001b[0;34m=\u001b[0m \u001b[0mself\u001b[0m\u001b[0;34m.\u001b[0m\u001b[0mshell\u001b[0m\u001b[0;34m.\u001b[0m\u001b[0minput_splitter\u001b[0m\u001b[0;34m.\u001b[0m\u001b[0mtransform_cell\u001b[0m\u001b[0;34m(\u001b[0m\u001b[0marg_str\u001b[0m\u001b[0;34m)\u001b[0m\u001b[0;34m\u001b[0m\u001b[0m\n\u001b[0;32m--> 302\u001b[0;31m         \u001b[0;32mreturn\u001b[0m \u001b[0mself\u001b[0m\u001b[0;34m.\u001b[0m\u001b[0m_run_with_profiler\u001b[0m\u001b[0;34m(\u001b[0m\u001b[0marg_str\u001b[0m\u001b[0;34m,\u001b[0m \u001b[0mopts\u001b[0m\u001b[0;34m,\u001b[0m \u001b[0mself\u001b[0m\u001b[0;34m.\u001b[0m\u001b[0mshell\u001b[0m\u001b[0;34m.\u001b[0m\u001b[0muser_ns\u001b[0m\u001b[0;34m)\u001b[0m\u001b[0;34m\u001b[0m\u001b[0m\n\u001b[0m\u001b[1;32m    303\u001b[0m \u001b[0;34m\u001b[0m\u001b[0m\n\u001b[1;32m    304\u001b[0m     \u001b[0;32mdef\u001b[0m \u001b[0m_run_with_profiler\u001b[0m\u001b[0;34m(\u001b[0m\u001b[0mself\u001b[0m\u001b[0;34m,\u001b[0m \u001b[0mcode\u001b[0m\u001b[0;34m,\u001b[0m \u001b[0mopts\u001b[0m\u001b[0;34m,\u001b[0m \u001b[0mnamespace\u001b[0m\u001b[0;34m)\u001b[0m\u001b[0;34m:\u001b[0m\u001b[0;34m\u001b[0m\u001b[0m\n",
      "\u001b[0;32m~/anaconda3/lib/python3.6/site-packages/IPython/core/magics/execution.py\u001b[0m in \u001b[0;36m_run_with_profiler\u001b[0;34m(self, code, opts, namespace)\u001b[0m\n\u001b[1;32m    322\u001b[0m         \u001b[0mprof\u001b[0m \u001b[0;34m=\u001b[0m \u001b[0mprofile\u001b[0m\u001b[0;34m.\u001b[0m\u001b[0mProfile\u001b[0m\u001b[0;34m(\u001b[0m\u001b[0;34m)\u001b[0m\u001b[0;34m\u001b[0m\u001b[0m\n\u001b[1;32m    323\u001b[0m         \u001b[0;32mtry\u001b[0m\u001b[0;34m:\u001b[0m\u001b[0;34m\u001b[0m\u001b[0m\n\u001b[0;32m--> 324\u001b[0;31m             \u001b[0mprof\u001b[0m \u001b[0;34m=\u001b[0m \u001b[0mprof\u001b[0m\u001b[0;34m.\u001b[0m\u001b[0mrunctx\u001b[0m\u001b[0;34m(\u001b[0m\u001b[0mcode\u001b[0m\u001b[0;34m,\u001b[0m \u001b[0mnamespace\u001b[0m\u001b[0;34m,\u001b[0m \u001b[0mnamespace\u001b[0m\u001b[0;34m)\u001b[0m\u001b[0;34m\u001b[0m\u001b[0m\n\u001b[0m\u001b[1;32m    325\u001b[0m             \u001b[0msys_exit\u001b[0m \u001b[0;34m=\u001b[0m \u001b[0;34m''\u001b[0m\u001b[0;34m\u001b[0m\u001b[0m\n\u001b[1;32m    326\u001b[0m         \u001b[0;32mexcept\u001b[0m \u001b[0mSystemExit\u001b[0m\u001b[0;34m:\u001b[0m\u001b[0;34m\u001b[0m\u001b[0m\n",
      "\u001b[0;32m~/anaconda3/lib/python3.6/cProfile.py\u001b[0m in \u001b[0;36mrunctx\u001b[0;34m(self, cmd, globals, locals)\u001b[0m\n\u001b[1;32m     98\u001b[0m         \u001b[0mself\u001b[0m\u001b[0;34m.\u001b[0m\u001b[0menable\u001b[0m\u001b[0;34m(\u001b[0m\u001b[0;34m)\u001b[0m\u001b[0;34m\u001b[0m\u001b[0m\n\u001b[1;32m     99\u001b[0m         \u001b[0;32mtry\u001b[0m\u001b[0;34m:\u001b[0m\u001b[0;34m\u001b[0m\u001b[0m\n\u001b[0;32m--> 100\u001b[0;31m             \u001b[0mexec\u001b[0m\u001b[0;34m(\u001b[0m\u001b[0mcmd\u001b[0m\u001b[0;34m,\u001b[0m \u001b[0mglobals\u001b[0m\u001b[0;34m,\u001b[0m \u001b[0mlocals\u001b[0m\u001b[0;34m)\u001b[0m\u001b[0;34m\u001b[0m\u001b[0m\n\u001b[0m\u001b[1;32m    101\u001b[0m         \u001b[0;32mfinally\u001b[0m\u001b[0;34m:\u001b[0m\u001b[0;34m\u001b[0m\u001b[0m\n\u001b[1;32m    102\u001b[0m             \u001b[0mself\u001b[0m\u001b[0;34m.\u001b[0m\u001b[0mdisable\u001b[0m\u001b[0;34m(\u001b[0m\u001b[0;34m)\u001b[0m\u001b[0;34m\u001b[0m\u001b[0m\n",
      "\u001b[0;32m<string>\u001b[0m in \u001b[0;36m<module>\u001b[0;34m()\u001b[0m\n",
      "\u001b[0;32m<ipython-input-42-4985492890f6>\u001b[0m in \u001b[0;36mcompute_partitions\u001b[0;34m(seg_array, thresholds, lom_radius, id_whitelist, exclusion_regions, mask_configs, min_size)\u001b[0m\n\u001b[1;32m     89\u001b[0m         \u001b[0muint8\u001b[0m \u001b[0mndarray\u001b[0m \u001b[0mof\u001b[0m \u001b[0mactive\u001b[0m \u001b[0mfraction\u001b[0m \u001b[0mvoxels\u001b[0m\u001b[0;34m\u001b[0m\u001b[0m\n\u001b[1;32m     90\u001b[0m     \"\"\"\n\u001b[0;32m---> 91\u001b[0;31m     \u001b[0mseg_array\u001b[0m \u001b[0;34m=\u001b[0m \u001b[0mclear_dust\u001b[0m\u001b[0;34m(\u001b[0m\u001b[0mseg_array\u001b[0m\u001b[0;34m,\u001b[0m \u001b[0mmin_size\u001b[0m\u001b[0;34m=\u001b[0m\u001b[0mmin_size\u001b[0m\u001b[0;34m)\u001b[0m\u001b[0;34m\u001b[0m\u001b[0m\n\u001b[0m\u001b[1;32m     92\u001b[0m     \u001b[0;32massert\u001b[0m \u001b[0mseg_array\u001b[0m\u001b[0;34m.\u001b[0m\u001b[0mndim\u001b[0m \u001b[0;34m==\u001b[0m \u001b[0;36m3\u001b[0m\u001b[0;34m\u001b[0m\u001b[0m\n\u001b[1;32m     93\u001b[0m \u001b[0;34m\u001b[0m\u001b[0m\n",
      "\u001b[0;32m<ipython-input-42-4985492890f6>\u001b[0m in \u001b[0;36mclear_dust\u001b[0;34m(data, min_size)\u001b[0m\n\u001b[1;32m     59\u001b[0m     \u001b[0mids\u001b[0m\u001b[0;34m,\u001b[0m \u001b[0msizes\u001b[0m \u001b[0;34m=\u001b[0m \u001b[0mnp\u001b[0m\u001b[0;34m.\u001b[0m\u001b[0munique\u001b[0m\u001b[0;34m(\u001b[0m\u001b[0mdata\u001b[0m\u001b[0;34m,\u001b[0m \u001b[0mreturn_counts\u001b[0m\u001b[0;34m=\u001b[0m\u001b[0;32mTrue\u001b[0m\u001b[0;34m)\u001b[0m\u001b[0;34m\u001b[0m\u001b[0m\n\u001b[1;32m     60\u001b[0m     \u001b[0msmall\u001b[0m \u001b[0;34m=\u001b[0m \u001b[0mids\u001b[0m\u001b[0;34m[\u001b[0m\u001b[0msizes\u001b[0m \u001b[0;34m<\u001b[0m \u001b[0mmin_size\u001b[0m\u001b[0;34m]\u001b[0m\u001b[0;34m\u001b[0m\u001b[0m\n\u001b[0;32m---> 61\u001b[0;31m     \u001b[0msmall_mask\u001b[0m \u001b[0;34m=\u001b[0m \u001b[0mnp\u001b[0m\u001b[0;34m.\u001b[0m\u001b[0min1d\u001b[0m\u001b[0;34m(\u001b[0m\u001b[0mdata\u001b[0m\u001b[0;34m.\u001b[0m\u001b[0mflat\u001b[0m\u001b[0;34m,\u001b[0m \u001b[0msmall\u001b[0m\u001b[0;34m)\u001b[0m\u001b[0;34m.\u001b[0m\u001b[0mreshape\u001b[0m\u001b[0;34m(\u001b[0m\u001b[0mdata\u001b[0m\u001b[0;34m.\u001b[0m\u001b[0mshape\u001b[0m\u001b[0;34m)\u001b[0m\u001b[0;34m\u001b[0m\u001b[0m\n\u001b[0m\u001b[1;32m     62\u001b[0m     \u001b[0mdata\u001b[0m\u001b[0;34m[\u001b[0m\u001b[0msmall_mask\u001b[0m\u001b[0;34m]\u001b[0m \u001b[0;34m=\u001b[0m \u001b[0;36m0\u001b[0m\u001b[0;34m\u001b[0m\u001b[0m\n\u001b[1;32m     63\u001b[0m     \u001b[0;32mreturn\u001b[0m \u001b[0mdata\u001b[0m\u001b[0;34m\u001b[0m\u001b[0m\n",
      "\u001b[0;32m~/.local/lib/python3.6/site-packages/numpy/lib/arraysetops.py\u001b[0m in \u001b[0;36min1d\u001b[0;34m(ar1, ar2, assume_unique, invert)\u001b[0m\n\u001b[1;32m    475\u001b[0m     \u001b[0;31m# Otherwise use sorting\u001b[0m\u001b[0;34m\u001b[0m\u001b[0;34m\u001b[0m\u001b[0m\n\u001b[1;32m    476\u001b[0m     \u001b[0;32mif\u001b[0m \u001b[0;32mnot\u001b[0m \u001b[0massume_unique\u001b[0m\u001b[0;34m:\u001b[0m\u001b[0;34m\u001b[0m\u001b[0m\n\u001b[0;32m--> 477\u001b[0;31m         \u001b[0mar1\u001b[0m\u001b[0;34m,\u001b[0m \u001b[0mrev_idx\u001b[0m \u001b[0;34m=\u001b[0m \u001b[0mnp\u001b[0m\u001b[0;34m.\u001b[0m\u001b[0munique\u001b[0m\u001b[0;34m(\u001b[0m\u001b[0mar1\u001b[0m\u001b[0;34m,\u001b[0m \u001b[0mreturn_inverse\u001b[0m\u001b[0;34m=\u001b[0m\u001b[0;32mTrue\u001b[0m\u001b[0;34m)\u001b[0m\u001b[0;34m\u001b[0m\u001b[0m\n\u001b[0m\u001b[1;32m    478\u001b[0m         \u001b[0mar2\u001b[0m \u001b[0;34m=\u001b[0m \u001b[0mnp\u001b[0m\u001b[0;34m.\u001b[0m\u001b[0munique\u001b[0m\u001b[0;34m(\u001b[0m\u001b[0mar2\u001b[0m\u001b[0;34m)\u001b[0m\u001b[0;34m\u001b[0m\u001b[0m\n\u001b[1;32m    479\u001b[0m \u001b[0;34m\u001b[0m\u001b[0m\n",
      "\u001b[0;32m~/.local/lib/python3.6/site-packages/numpy/lib/arraysetops.py\u001b[0m in \u001b[0;36munique\u001b[0;34m(ar, return_index, return_inverse, return_counts, axis)\u001b[0m\n\u001b[1;32m    221\u001b[0m     \u001b[0mar\u001b[0m \u001b[0;34m=\u001b[0m \u001b[0mnp\u001b[0m\u001b[0;34m.\u001b[0m\u001b[0masanyarray\u001b[0m\u001b[0;34m(\u001b[0m\u001b[0mar\u001b[0m\u001b[0;34m)\u001b[0m\u001b[0;34m\u001b[0m\u001b[0m\n\u001b[1;32m    222\u001b[0m     \u001b[0;32mif\u001b[0m \u001b[0maxis\u001b[0m \u001b[0;32mis\u001b[0m \u001b[0;32mNone\u001b[0m\u001b[0;34m:\u001b[0m\u001b[0;34m\u001b[0m\u001b[0m\n\u001b[0;32m--> 223\u001b[0;31m         \u001b[0;32mreturn\u001b[0m \u001b[0m_unique1d\u001b[0m\u001b[0;34m(\u001b[0m\u001b[0mar\u001b[0m\u001b[0;34m,\u001b[0m \u001b[0mreturn_index\u001b[0m\u001b[0;34m,\u001b[0m \u001b[0mreturn_inverse\u001b[0m\u001b[0;34m,\u001b[0m \u001b[0mreturn_counts\u001b[0m\u001b[0;34m)\u001b[0m\u001b[0;34m\u001b[0m\u001b[0m\n\u001b[0m\u001b[1;32m    224\u001b[0m     \u001b[0;32mif\u001b[0m \u001b[0;32mnot\u001b[0m \u001b[0;34m(\u001b[0m\u001b[0;34m-\u001b[0m\u001b[0mar\u001b[0m\u001b[0;34m.\u001b[0m\u001b[0mndim\u001b[0m \u001b[0;34m<=\u001b[0m \u001b[0maxis\u001b[0m \u001b[0;34m<\u001b[0m \u001b[0mar\u001b[0m\u001b[0;34m.\u001b[0m\u001b[0mndim\u001b[0m\u001b[0;34m)\u001b[0m\u001b[0;34m:\u001b[0m\u001b[0;34m\u001b[0m\u001b[0m\n\u001b[1;32m    225\u001b[0m         \u001b[0;32mraise\u001b[0m \u001b[0mValueError\u001b[0m\u001b[0;34m(\u001b[0m\u001b[0;34m'Invalid axis kwarg specified for unique'\u001b[0m\u001b[0;34m)\u001b[0m\u001b[0;34m\u001b[0m\u001b[0m\n",
      "\u001b[0;32m~/.local/lib/python3.6/site-packages/numpy/lib/arraysetops.py\u001b[0m in \u001b[0;36m_unique1d\u001b[0;34m(ar, return_index, return_inverse, return_counts)\u001b[0m\n\u001b[1;32m    278\u001b[0m \u001b[0;34m\u001b[0m\u001b[0m\n\u001b[1;32m    279\u001b[0m     \u001b[0;32mif\u001b[0m \u001b[0moptional_indices\u001b[0m\u001b[0;34m:\u001b[0m\u001b[0;34m\u001b[0m\u001b[0m\n\u001b[0;32m--> 280\u001b[0;31m         \u001b[0mperm\u001b[0m \u001b[0;34m=\u001b[0m \u001b[0mar\u001b[0m\u001b[0;34m.\u001b[0m\u001b[0margsort\u001b[0m\u001b[0;34m(\u001b[0m\u001b[0mkind\u001b[0m\u001b[0;34m=\u001b[0m\u001b[0;34m'mergesort'\u001b[0m \u001b[0;32mif\u001b[0m \u001b[0mreturn_index\u001b[0m \u001b[0;32melse\u001b[0m \u001b[0;34m'quicksort'\u001b[0m\u001b[0;34m)\u001b[0m\u001b[0;34m\u001b[0m\u001b[0m\n\u001b[0m\u001b[1;32m    281\u001b[0m         \u001b[0maux\u001b[0m \u001b[0;34m=\u001b[0m \u001b[0mar\u001b[0m\u001b[0;34m[\u001b[0m\u001b[0mperm\u001b[0m\u001b[0;34m]\u001b[0m\u001b[0;34m\u001b[0m\u001b[0m\n\u001b[1;32m    282\u001b[0m     \u001b[0;32melse\u001b[0m\u001b[0;34m:\u001b[0m\u001b[0;34m\u001b[0m\u001b[0m\n",
      "\u001b[0;31mKeyboardInterrupt\u001b[0m: "
     ]
    }
   ],
   "source": [
    "%prun compute_partitions(seg_array[...], thresholds, lom_radius, id_whitelist=None, exclusion_regions=None, mask_configs=None, min_size=min_size)"
   ]
  },
  {
   "cell_type": "code",
   "execution_count": 4,
   "metadata": {},
   "outputs": [],
   "source": [
    "%load_ext line_profiler"
   ]
  },
  {
   "cell_type": "code",
   "execution_count": 35,
   "metadata": {},
   "outputs": [
    {
     "name": "stdout",
     "output_type": "stream",
     "text": [
      "[49 49 49]\n",
      "[slice(24, -24, None), slice(24, -24, None), slice(24, -24, None)]\n"
     ]
    }
   ],
   "source": [
    "lom_radius = np.array(lom_radius)\n",
    "lom_radius_zyx = lom_radius[::-1]\n",
    "lom_diam_zyx = 2 * lom_radius_zyx + 1\n",
    "print(lom_diam_zyx)\n",
    "def _sel(i):\n",
    "    if i == 0:\n",
    "        return slice(None)\n",
    "    else:\n",
    "        return slice(i, -i)\n",
    "\n",
    "valid_sel = [_sel(x) for x in lom_radius_zyx]\n",
    "#output = np.zeros(seg_array[valid_sel].shape, dtype=np.uint8)\n",
    "print(valid_sel)"
   ]
  },
  {
   "cell_type": "code",
   "execution_count": 18,
   "metadata": {},
   "outputs": [
    {
     "name": "stdout",
     "output_type": "stream",
     "text": [
      "[24 24 24]\n"
     ]
    }
   ],
   "source": [
    "print(corner)"
   ]
  },
  {
   "cell_type": "code",
   "execution_count": 27,
   "metadata": {},
   "outputs": [
    {
     "name": "stdout",
     "output_type": "stream",
     "text": [
      "(472, 472, 472) uint8\n"
     ]
    }
   ],
   "source": [
    "print(partitions.shape,partitions.dtype)"
   ]
  },
  {
   "cell_type": "code",
   "execution_count": 22,
   "metadata": {},
   "outputs": [
    {
     "data": {
      "text/plain": [
       "'0.36.2'"
      ]
     },
     "execution_count": 22,
     "metadata": {},
     "output_type": "execute_result"
    }
   ],
   "source": [
    "import numba\n",
    "numba.__version__"
   ]
  },
  {
   "cell_type": "code",
   "execution_count": 51,
   "metadata": {},
   "outputs": [
    {
     "name": "stdout",
     "output_type": "stream",
     "text": [
      "[[13 13 13 ...  0  0  0]\n",
      " [13 13 13 ...  0  0  0]\n",
      " [13 13 13 ...  0  0  0]\n",
      " ...\n",
      " [ 0  0  0 ...  0  0  0]\n",
      " [ 0  0  0 ...  0  0  0]\n",
      " [ 0  0  0 ...  0  0  0]] 105154048\n"
     ]
    }
   ],
   "source": [
    "print(partitions[420],partitions.nbytes)"
   ]
  },
  {
   "cell_type": "code",
   "execution_count": 50,
   "metadata": {},
   "outputs": [
    {
     "name": "stderr",
     "output_type": "stream",
     "text": [
      "INFO:root:Output shape: (472, 472, 472) \n",
      "INFO:root:Labels to process: 7\n",
      "INFO:root:Done processing 34 in 12.388583 seconds\n",
      "INFO:root:Nonzero values: 4088609\n"
     ]
    },
    {
     "name": "stdout",
     "output_type": "stream",
     "text": [
      "\n",
      "*** Profile stats pickled to file 'summed_volume_i8.lprof'. \n",
      "\n",
      "*** Profile printout saved to text file 'summed_volume_i8.txt'. \n"
     ]
    }
   ],
   "source": [
    "%lprun -D summed_volume_i8.lprof -T summed_volume_i8.txt -f _summed_volume_table compute_partitions(seg_array[...], thresholds, lom_radius, id_whitelist=None, exclusion_regions=None, mask_configs=None, min_size=min_size)"
   ]
  },
  {
   "cell_type": "code",
   "execution_count": 39,
   "metadata": {},
   "outputs": [
    {
     "ename": "SyntaxError",
     "evalue": "invalid syntax (<string>, line 1)",
     "output_type": "error",
     "traceback": [
      "Traceback \u001b[0;36m(most recent call last)\u001b[0m:\n",
      "  File \u001b[1;32m\"/Users/keceli/anaconda3/lib/python3.6/site-packages/IPython/core/interactiveshell.py\"\u001b[0m, line \u001b[1;32m2963\u001b[0m, in \u001b[1;35mrun_code\u001b[0m\n    exec(code_obj, self.user_global_ns, self.user_ns)\n",
      "  File \u001b[1;32m\"<ipython-input-39-94f7261b8fb6>\"\u001b[0m, line \u001b[1;32m1\u001b[0m, in \u001b[1;35m<module>\u001b[0m\n    get_ipython().run_line_magic('lprun', '?')\n",
      "  File \u001b[1;32m\"/Users/keceli/anaconda3/lib/python3.6/site-packages/IPython/core/interactiveshell.py\"\u001b[0m, line \u001b[1;32m2131\u001b[0m, in \u001b[1;35mrun_line_magic\u001b[0m\n    result = fn(*args,**kwargs)\n",
      "  File \u001b[1;32m\"<decorator-gen-127>\"\u001b[0m, line \u001b[1;32m2\u001b[0m, in \u001b[1;35mlprun\u001b[0m\n",
      "  File \u001b[1;32m\"/Users/keceli/anaconda3/lib/python3.6/site-packages/IPython/core/magic.py\"\u001b[0m, line \u001b[1;32m187\u001b[0m, in \u001b[1;35m<lambda>\u001b[0m\n    call = lambda f, *a, **k: f(*a, **k)\n",
      "  File \u001b[1;32m\"/Users/keceli/anaconda3/lib/python3.6/site-packages/line_profiler.py\"\u001b[0m, line \u001b[1;32m356\u001b[0m, in \u001b[1;35mlprun\u001b[0m\n    profile.runctx(arg_str, global_ns, local_ns)\n",
      "\u001b[0;36m  File \u001b[0;32m\"/Users/keceli/anaconda3/lib/python3.6/site-packages/line_profiler.py\"\u001b[0;36m, line \u001b[0;32m151\u001b[0;36m, in \u001b[0;35mrunctx\u001b[0;36m\u001b[0m\n\u001b[0;31m    exec_(cmd, globals, locals)\u001b[0m\n",
      "\u001b[0;36m  File \u001b[0;32m\"<string>\"\u001b[0;36m, line \u001b[0;32m1\u001b[0m\n\u001b[0;31m    ?\u001b[0m\n\u001b[0m    ^\u001b[0m\n\u001b[0;31mSyntaxError\u001b[0m\u001b[0;31m:\u001b[0m invalid syntax\n"
     ]
    }
   ],
   "source": [
    "%lprun"
   ]
  },
  {
   "cell_type": "code",
   "execution_count": null,
   "metadata": {},
   "outputs": [],
   "source": [
    "        "
   ]
  }
 ],
 "metadata": {
  "kernelspec": {
   "display_name": "Python 3",
   "language": "python",
   "name": "python3"
  },
  "language_info": {
   "codemirror_mode": {
    "name": "ipython",
    "version": 3
   },
   "file_extension": ".py",
   "mimetype": "text/x-python",
   "name": "python",
   "nbconvert_exporter": "python",
   "pygments_lexer": "ipython3",
   "version": "3.6.4"
  }
 },
 "nbformat": 4,
 "nbformat_minor": 2
}
